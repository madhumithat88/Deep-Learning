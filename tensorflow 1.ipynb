{
 "cells": [
  {
   "cell_type": "code",
   "execution_count": 1,
   "metadata": {},
   "outputs": [],
   "source": [
    "import tensorflow as tf\n",
    "import numpy as np\n",
    "from tensorflow import keras"
   ]
  },
  {
   "cell_type": "code",
   "execution_count": 2,
   "metadata": {},
   "outputs": [],
   "source": [
    "#defining a model with one layer. Dense represents one layer of neurons. units denotes the number of nuerons in each layer.\n",
    "#here,we define a model with one layer containing one neuron.\n",
    "model = tf.keras.Sequential([keras.layers.Dense(units=1, input_shape=[1])])"
   ]
  },
  {
   "cell_type": "code",
   "execution_count": 3,
   "metadata": {},
   "outputs": [],
   "source": [
    "#loss here is the mse when the predicted function is tested with the known inputs.\n",
    "#this mse(loss) is passed to the optimizer which assesses the loss and tries to decrease it with each epoch(iteration)\n",
    "model.compile(optimizer='sgd', loss='mean_squared_error')"
   ]
  },
  {
   "cell_type": "code",
   "execution_count": 4,
   "metadata": {},
   "outputs": [],
   "source": [
    "#in this model, if we want to predict the value of y for a given x, we pass in known values of x's and y's as inputs to the model\n",
    "xs = np.array([-1.0,  0.0, 1.0, 2.0, 3.0, 4.0], dtype=float)\n",
    "ys = np.array([-3.0, -1.0, 1.0, 3.0, 5.0, 7.0], dtype=float)"
   ]
  },
  {
   "cell_type": "code",
   "execution_count": 5,
   "metadata": {},
   "outputs": [
    {
     "name": "stdout",
     "output_type": "stream",
     "text": [
      "Epoch 1/50\n",
      "1/1 [==============================] - 0s 0s/step - loss: 46.6085\n",
      "Epoch 2/50\n",
      "1/1 [==============================] - 0s 2ms/step - loss: 37.0504\n",
      "Epoch 3/50\n",
      "1/1 [==============================] - 0s 2ms/step - loss: 29.5227\n",
      "Epoch 4/50\n",
      "1/1 [==============================] - 0s 2ms/step - loss: 23.5926\n",
      "Epoch 5/50\n",
      "1/1 [==============================] - 0s 2ms/step - loss: 18.9195\n",
      "Epoch 6/50\n",
      "1/1 [==============================] - 0s 993us/step - loss: 15.2357\n",
      "Epoch 7/50\n",
      "1/1 [==============================] - 0s 2ms/step - loss: 12.3302\n",
      "Epoch 8/50\n",
      "1/1 [==============================] - 0s 2ms/step - loss: 10.0372\n",
      "Epoch 9/50\n",
      "1/1 [==============================] - 0s 2ms/step - loss: 8.2263\n",
      "Epoch 10/50\n",
      "1/1 [==============================] - 0s 951us/step - loss: 6.7948\n",
      "Epoch 11/50\n",
      "1/1 [==============================] - 0s 2ms/step - loss: 5.6620\n",
      "Epoch 12/50\n",
      "1/1 [==============================] - 0s 2ms/step - loss: 4.7642\n",
      "Epoch 13/50\n",
      "1/1 [==============================] - 0s 2ms/step - loss: 4.0515\n",
      "Epoch 14/50\n",
      "1/1 [==============================] - 0s 995us/step - loss: 3.4846\n",
      "Epoch 15/50\n",
      "1/1 [==============================] - 0s 2ms/step - loss: 3.0324\n",
      "Epoch 16/50\n",
      "1/1 [==============================] - 0s 995us/step - loss: 2.6708\n",
      "Epoch 17/50\n",
      "1/1 [==============================] - 0s 2ms/step - loss: 2.3803\n",
      "Epoch 18/50\n",
      "1/1 [==============================] - 0s 2ms/step - loss: 2.1461\n",
      "Epoch 19/50\n",
      "1/1 [==============================] - 0s 2ms/step - loss: 1.9562\n",
      "Epoch 20/50\n",
      "1/1 [==============================] - 0s 2ms/step - loss: 1.8013\n",
      "Epoch 21/50\n",
      "1/1 [==============================] - 0s 1ms/step - loss: 1.6741\n",
      "Epoch 22/50\n",
      "1/1 [==============================] - 0s 1ms/step - loss: 1.5687\n",
      "Epoch 23/50\n",
      "1/1 [==============================] - 0s 988us/step - loss: 1.4806\n",
      "Epoch 24/50\n",
      "1/1 [==============================] - 0s 954us/step - loss: 1.4062\n",
      "Epoch 25/50\n",
      "1/1 [==============================] - 0s 983us/step - loss: 1.3428\n",
      "Epoch 26/50\n",
      "1/1 [==============================] - 0s 1ms/step - loss: 1.2880\n",
      "Epoch 27/50\n",
      "1/1 [==============================] - 0s 1ms/step - loss: 1.2401\n",
      "Epoch 28/50\n",
      "1/1 [==============================] - 0s 2ms/step - loss: 1.1978\n",
      "Epoch 29/50\n",
      "1/1 [==============================] - 0s 996us/step - loss: 1.1600\n",
      "Epoch 30/50\n",
      "1/1 [==============================] - 0s 1ms/step - loss: 1.1257\n",
      "Epoch 31/50\n",
      "1/1 [==============================] - 0s 3ms/step - loss: 1.0944\n",
      "Epoch 32/50\n",
      "1/1 [==============================] - 0s 2ms/step - loss: 1.0655\n",
      "Epoch 33/50\n",
      "1/1 [==============================] - 0s 999us/step - loss: 1.0385\n",
      "Epoch 34/50\n",
      "1/1 [==============================] - 0s 997us/step - loss: 1.0132\n",
      "Epoch 35/50\n",
      "1/1 [==============================] - 0s 2ms/step - loss: 0.9892\n",
      "Epoch 36/50\n",
      "1/1 [==============================] - 0s 2ms/step - loss: 0.9664\n",
      "Epoch 37/50\n",
      "1/1 [==============================] - 0s 2ms/step - loss: 0.9446\n",
      "Epoch 38/50\n",
      "1/1 [==============================] - 0s 3ms/step - loss: 0.9237\n",
      "Epoch 39/50\n",
      "1/1 [==============================] - 0s 2ms/step - loss: 0.9035\n",
      "Epoch 40/50\n",
      "1/1 [==============================] - 0s 1ms/step - loss: 0.8840\n",
      "Epoch 41/50\n",
      "1/1 [==============================] - 0s 1ms/step - loss: 0.8651\n",
      "Epoch 42/50\n",
      "1/1 [==============================] - 0s 2ms/step - loss: 0.8468\n",
      "Epoch 43/50\n",
      "1/1 [==============================] - 0s 2ms/step - loss: 0.8289\n",
      "Epoch 44/50\n",
      "1/1 [==============================] - 0s 993us/step - loss: 0.8115\n",
      "Epoch 45/50\n",
      "1/1 [==============================] - 0s 2ms/step - loss: 0.7946\n",
      "Epoch 46/50\n",
      "1/1 [==============================] - 0s 2ms/step - loss: 0.7780\n",
      "Epoch 47/50\n",
      "1/1 [==============================] - 0s 997us/step - loss: 0.7619\n",
      "Epoch 48/50\n",
      "1/1 [==============================] - 0s 2ms/step - loss: 0.7461\n",
      "Epoch 49/50\n",
      "1/1 [==============================] - 0s 996us/step - loss: 0.7306\n",
      "Epoch 50/50\n",
      "1/1 [==============================] - 0s 2ms/step - loss: 0.7155\n"
     ]
    },
    {
     "data": {
      "text/plain": [
       "<tensorflow.python.keras.callbacks.History at 0x2769aca2c40>"
      ]
     },
     "execution_count": 5,
     "metadata": {},
     "output_type": "execute_result"
    }
   ],
   "source": [
    "#passing the inputs and setting the epochs(no. of optimizing iterations) into the model\n",
    "model.fit(xs, ys, epochs=50)"
   ]
  },
  {
   "cell_type": "code",
   "execution_count": 6,
   "metadata": {},
   "outputs": [
    {
     "name": "stdout",
     "output_type": "stream",
     "text": [
      "[[16.463926]]\n"
     ]
    }
   ],
   "source": [
    "#after the model learns from and optimizes its function, we now predict the 'y' value for an input x=10.0\n",
    "print(model.predict([10.0]))\n",
    "#the original output should be 19 but we can achieve that with higher no. of epochs, more input data etc;"
   ]
  }
 ],
 "metadata": {
  "kernelspec": {
   "display_name": "Python 3",
   "language": "python",
   "name": "python3"
  },
  "language_info": {
   "codemirror_mode": {
    "name": "ipython",
    "version": 3
   },
   "file_extension": ".py",
   "mimetype": "text/x-python",
   "name": "python",
   "nbconvert_exporter": "python",
   "pygments_lexer": "ipython3",
   "version": "3.8.5"
  }
 },
 "nbformat": 4,
 "nbformat_minor": 4
}
